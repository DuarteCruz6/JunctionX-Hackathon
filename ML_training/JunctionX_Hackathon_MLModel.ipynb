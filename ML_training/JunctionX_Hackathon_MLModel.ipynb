{
  "cells": [
    {
      "cell_type": "code",
      "execution_count": null,
      "metadata": {
        "colab": {
          "base_uri": "https://localhost:8080/"
        },
        "id": "pgTHTWKFVuWu",
        "outputId": "1cb13f16-53f4-4117-808e-287847e23b39"
      },
      "outputs": [],
      "source": [
        "# ==========================================================\n",
        "# 🧠 YOLOv8 Segmentation Training (Hugging Face Dataset)\n",
        "# ==========================================================\n",
        "\n",
        "%pip install ultralytics datasets huggingface_hub --quiet\n",
        "\n",
        "from datasets import load_dataset\n",
        "from ultralytics import YOLO\n",
        "import os, shutil\n",
        "from huggingface_hub import login, snapshot_download\n",
        "from huggingface_hub import HfApi"
      ]
    },
    {
      "cell_type": "code",
      "execution_count": null,
      "metadata": {
        "colab": {
          "base_uri": "https://localhost:8080/"
        },
        "id": "neX25QM-V1CV",
        "outputId": "4876c9fe-e912-4050-b885-fd7aebb9fb25"
      },
      "outputs": [],
      "source": [
        "# ----------------------------------------------------------\n",
        "# 1️⃣  CONFIG\n",
        "# ----------------------------------------------------------\n",
        "\n",
        "HF_DATASET = \"duartepcruz/acacia_dataset\"\n",
        "SUBDIR = \"data\"                        # where to save locally\n",
        "EPOCHS = 50\n",
        "IMG_SIZE = 640\n",
        "hf_token = os.environ.get(\"HF_API_TOKEN\")\n",
        "hub_model_id = os.environ.get(\"HUGGINGFACE_MODEL_ID\")\n",
        "\n",
        "# --- Authenticate ---\n",
        "print(\"🔐 Logging in to Hugging Face Hub...\")\n",
        "login(token=hf_token)"
      ]
    },
    {
      "cell_type": "markdown",
      "metadata": {
        "id": "ZqP078XoUkzy"
      },
      "source": [
        "Cloning the dataset"
      ]
    },
    {
      "cell_type": "code",
      "execution_count": null,
      "metadata": {
        "colab": {
          "base_uri": "https://localhost:8080/",
          "height": 66,
          "referenced_widgets": [
            "2b05f0dc8d8645bb9a5dbbb3cee0c21a",
            "b252b1943aca45f0970d5b02e583aa86",
            "0f177f89fef64c5d8ca27096a54617d4",
            "ec7791469e974865a837e643b24cf75f",
            "23a2e14834e1458aa3c46c148338ba8a",
            "9642cb592c3a40c187bf2bf1bf8ee0f8",
            "d1d9d98028c9437aa60e6897f4a4b945",
            "a2be8fa4336b4e9e9eedb5c1da41e093",
            "0117eb54bff44b78bc0ac01156b03939",
            "4b0ea52ec178445ab9c73d6641dc2bca",
            "f3ea0267f8564b76b1281dc255111565"
          ]
        },
        "id": "7VZyBBL1UnGL",
        "outputId": "43b0394e-8256-4e14-b6c5-a1453967214c"
      },
      "outputs": [],
      "source": [
        "# -------------------------------\n",
        "# 2️⃣  DOWNLOAD DATASET (only if not downloaded)\n",
        "# -------------------------------\n",
        "#if not os.path.exists(SUBDIR) or len(os.listdir(SUBDIR)) == 0:\n",
        "#    print(\"⬇️ Downloading dataset from Hugging Face...\")\n",
        "#    local_dataset_path = snapshot_download(\n",
        "#        repo_id=HF_DATASET,\n",
        "#        repo_type=\"dataset\",\n",
        "#        token=hf_token,\n",
        "#        local_dir=SUBDIR\n",
        "#    )\n",
        "#    print(f\"✅ Dataset downloaded to: {local_dataset_path}\")\n",
        "#else:\n",
        "#    print(\"ℹ️ Dataset already exists locally. Skipping download.\")\n",
        "#    local_dataset_path = os.path.abspath(SUBDIR)\n",
        "\n",
        "print(\"⬇️ Downloading dataset from Hugging Face...\")\n",
        "local_dataset_path = snapshot_download(\n",
        "    repo_id=HF_DATASET,\n",
        "    repo_type=\"dataset\",\n",
        "    token=hf_token,\n",
        "    local_dir=SUBDIR\n",
        ")\n"
      ]
    },
    {
      "cell_type": "markdown",
      "metadata": {
        "id": "hJzvrlLg-McO"
      },
      "source": [
        "Edit data.yaml"
      ]
    },
    {
      "cell_type": "code",
      "execution_count": null,
      "metadata": {
        "colab": {
          "base_uri": "https://localhost:8080/"
        },
        "id": "xtaXjT_t-LaT",
        "outputId": "3b99441c-6539-4370-d833-0fb401074c81"
      },
      "outputs": [],
      "source": [
        "# -------------------------------\n",
        "# 3️⃣  CREATE data.yaml (if not exists)\n",
        "# -------------------------------\n",
        "data_yaml_path = os.path.join(local_dataset_path, \"data.yaml\")\n",
        "\n",
        "yaml_content = f\"\"\"path: /content/data\n",
        "train: images/train\n",
        "val: images/val\n",
        "nc: 1\n",
        "names:\n",
        "  0: acacias\n",
        "\"\"\"\n",
        "with open(data_yaml_path, \"w\") as f:\n",
        "    f.write(yaml_content)\n",
        "print(\"✅ data.yaml created for single class 'acacias'.\")"
      ]
    },
    {
      "cell_type": "markdown",
      "metadata": {
        "id": "ZWIjyKo4SeqM"
      },
      "source": [
        "Passar de masks para YOLO format"
      ]
    },
    {
      "cell_type": "code",
      "execution_count": null,
      "metadata": {
        "id": "ae56e669"
      },
      "outputs": [],
      "source": [
        "from ultralytics.data.converter import convert_segment_masks_to_yolo_seg\n",
        "import os\n",
        "\n",
        "# Define paths based on your data.yaml and dataset structure\n",
        "base_data_path = \"/content/data\"\n",
        "train_masks_dir = os.path.join(base_data_path, \"labels\", \"train\")\n",
        "val_masks_dir = os.path.join(base_data_path, \"labels\", \"val\")\n",
        "\n",
        "# Define output directories for YOLO segment labels\n",
        "train_output_dir = os.path.join(base_data_path, \"labels\", \"train\") # Overwrite masks with labels\n",
        "val_output_dir = os.path.join(base_data_path, \"labels\", \"val\")   # Overwrite masks with labels\n",
        "\n",
        "# Number of classes\n",
        "num_classes = 2\n",
        "\n",
        "print(\"Converting training masks to YOLO segmentation format...\")\n",
        "convert_segment_masks_to_yolo_seg(masks_dir=train_masks_dir, output_dir=train_output_dir, classes=num_classes)\n",
        "print(\"✅ Training masks converted.\")\n",
        "\n",
        "print(\"Converting validation masks to YOLO segmentation format...\")\n",
        "convert_segment_masks_to_yolo_seg(masks_dir=val_masks_dir, output_dir=val_output_dir, classes=num_classes)\n",
        "print(\"✅ Validation masks converted.\")\n",
        "\n",
        "print(\"\\nConversion complete. You can now try retraining your model.\")"
      ]
    },
    {
      "cell_type": "markdown",
      "metadata": {
        "id": "PASpK-k4U9KG"
      },
      "source": [
        "Training the model"
      ]
    },
    {
      "cell_type": "code",
      "execution_count": null,
      "metadata": {
        "colab": {
          "base_uri": "https://localhost:8080/",
          "height": 211
        },
        "id": "BAYV2xV6VB1w",
        "outputId": "38e5aae8-32b7-4aa8-b35c-a30f19185b54"
      },
      "outputs": [],
      "source": [
        "# ----------------------------------------------------------\n",
        "# 4️⃣  TRAIN YOLOv8 SEGMENTATION MODEL\n",
        "# ----------------------------------------------------------\n",
        "data_yaml_path = os.path.join(SUBDIR, \"data.yaml\")\n",
        "print(data_yaml_path)\n",
        "model = YOLO(\"yolov8n-seg.pt\")  # small model for demo; use yolov8m-seg.pt for stronger one\n",
        "model.train(data=data_yaml_path, epochs=EPOCHS, imgsz=IMG_SIZE)"
      ]
    },
    {
      "cell_type": "markdown",
      "metadata": {
        "id": "2R2TyiZSVHsY"
      },
      "source": [
        "Saving to Google Drive"
      ]
    },
    {
      "cell_type": "code",
      "execution_count": null,
      "metadata": {
        "id": "l3lzv_ypVL-z"
      },
      "outputs": [],
      "source": [
        "# ----------------------------------------------------------\n",
        "# 5️⃣  SAVE TO GOOGLE DRIVE (optional)\n",
        "# ----------------------------------------------------------\n",
        "# from google.colab import drive\n",
        "# drive.mount('/content/drive')\n",
        "# !cp -r runs/segment /content/drive/MyDrive/"
      ]
    },
    {
      "cell_type": "markdown",
      "metadata": {
        "id": "FoJFcxdmVNtU"
      },
      "source": [
        "Saving the best run to HuggingFace"
      ]
    },
    {
      "cell_type": "code",
      "execution_count": null,
      "metadata": {
        "id": "euoOFY_mVNYC"
      },
      "outputs": [],
      "source": [
        "# --- 3. Export model ---\n",
        "api = HfApi()\n",
        "api.upload_file(\n",
        "    path_or_fileobj=\"runs/segment/train3/weights/best.pt\",\n",
        "    path_in_repo=\"best.pt\",\n",
        "    repo_id=hub_model_id,\n",
        "    token=hf_token\n",
        ")"
      ]
    },
    {
      "cell_type": "markdown",
      "metadata": {
        "id": "LP5vy11o3Knt"
      },
      "source": [
        "Plots"
      ]
    },
    {
      "cell_type": "code",
      "execution_count": null,
      "metadata": {
        "id": "3Wjf_GPm3T-u"
      },
      "outputs": [],
      "source": [
        "import pandas as pd\n",
        "import matplotlib.pyplot as plt\n",
        "import matplotlib.ticker as ticker"
      ]
    },
    {
      "cell_type": "code",
      "execution_count": null,
      "metadata": {
        "id": "gmnhupby3dgm"
      },
      "outputs": [],
      "source": [
        "csv_filename = '/content/runs/segment/train3/results.csv'"
      ]
    },
    {
      "cell_type": "code",
      "execution_count": null,
      "metadata": {
        "id": "prJ3COJ93VXA"
      },
      "outputs": [],
      "source": [
        "\"\"\"\n",
        "Loads and preprocesses the training data from a CSV file.\n",
        "Returns a DataFrame and the number of epochs.\n",
        "\"\"\"\n",
        "try:\n",
        "    # Read the CSV data into a pandas DataFrame\n",
        "    df = pd.read_csv(csv_filename)\n",
        "    # Convert all columns to numeric, ignoring errors for non-numeric\n",
        "    for col in df.columns:\n",
        "        if col.lower() != 'epoch':\n",
        "             df[col] = pd.to_numeric(df[col], errors='ignore')\n",
        "    # Check if 'epoch' column exists to set as index\n",
        "    if 'epoch' in df.columns:\n",
        "        df = df.set_index('epoch')\n",
        "    else:\n",
        "        print(\"Warning: 'epoch' column not found. Using default numeric index.\")\n",
        "\n",
        "    num_epochs = len(df)\n",
        "\n",
        "except FileNotFoundError:\n",
        "    print(f\"Error: The file '{csv_filename}' was not found.\")\n",
        "    print(\"Please make sure the file is in the same directory or provide the full path.\")\n",
        "\n",
        "except Exception as e:\n",
        "    print(f\"An error occurred during data loading: {e}\")\n"
      ]
    },
    {
      "cell_type": "code",
      "execution_count": null,
      "metadata": {
        "id": "D5KTovdv4LIU"
      },
      "outputs": [],
      "source": [
        "\"\"\"\n",
        "Plots the training and validation losses.\n",
        "\"\"\"\n",
        "print(\"\\nGenerating Plot 1: Training vs. Validation Losses...\")\n",
        "plt.figure(figsize=(12, 7)) # Create a new figure\n",
        "\n",
        "train_loss_cols = ['train/box_loss', 'train/seg_loss', 'train/cls_loss', 'train/dfl_loss']\n",
        "val_loss_cols = ['val/box_loss', 'val/seg_loss', 'val/cls_loss', 'val/dfl_loss']\n",
        "\n",
        "available_train_loss = [col for col in train_loss_cols if col in df.columns]\n",
        "available_val_loss = [col for col in val_loss_cols if col in df.columns]\n",
        "# Plot available data\n",
        "if available_train_loss:\n",
        "    df[available_train_loss].plot(marker='o', linestyle='--')\n",
        "if available_val_loss:\n",
        "    df[available_val_loss].plot(marker='o', linestyle='-')\n",
        "\n",
        "plt.title(f'Training vs. Validation Losses (Epochs 1-{num_epochs})')\n",
        "plt.ylabel('Loss')\n",
        "plt.xlabel('Epoch')\n",
        "plt.grid(True)\n",
        "plt.legend(title='Metrics (Train = dashed, Val = solid)', bbox_to_anchor=(1.05, 1), loc='upper left')\n",
        "\n",
        "# Ensure x-axis shows integer epochs\n",
        "plt.gca().xaxis.set_major_locator(ticker.MaxNLocator(integer=True))\n",
        "\n",
        "# Adjust layout and save\n",
        "plt.tight_layout(rect=[0, 0, 0.85, 1]) # Adjust layout to make space for legends\n",
        "save_filename1 = 'training_losses.png'\n",
        "plt.savefig(save_filename1)\n",
        "plt.show() # Show the first plot\n",
        "print(f\"Successfully generated and saved plot to {save_filename1}\")"
      ]
    },
    {
      "cell_type": "code",
      "execution_count": null,
      "metadata": {
        "id": "9kdkz9pO4Npj"
      },
      "outputs": [],
      "source": [
        "\"\"\"\n",
        "Plots the mAP performance metrics.\n",
        "\"\"\"\n",
        "print(\"\\nGenerating Plot 2: Performance Metrics (mAP)...\")\n",
        "plt.figure(figsize=(12, 7)) # Create a new figure\n",
        "\n",
        "map_cols = ['metrics/mAP50(B)', 'metrics/mAP50-95(B)', 'metrics/mAP50(M)', 'metrics/mAP50-95(M)']\n",
        "available_map_cols = [col for col in map_cols if col in df.columns]\n",
        "\n",
        "if available_map_cols:\n",
        "    df[available_map_cols].plot(marker='o')\n",
        "    plt.title(f'Performance Metrics (mAP) (Epochs 1-{num_epochs})')\n",
        "    plt.ylabel('mAP Score')\n",
        "    plt.xlabel('Epoch')\n",
        "    plt.grid(True)\n",
        "    plt.legend(bbox_to_anchor=(1.05, 1), loc='upper left')\n",
        "\n",
        "    # Ensure x-axis shows integer epochs\n",
        "    plt.gca().xaxis.set_major_locator(ticker.MaxNLocator(integer=True))\n",
        "    # Adjust layout and save\n",
        "    plt.tight_layout(rect=[0, 0, 0.85, 1])\n",
        "    save_filename2 = 'map_metrics.png'\n",
        "    plt.savefig(save_filename2)\n",
        "    plt.show() # Show the second plot\n",
        "    print(f\"Successfully generated and saved plot to {save_filename2}\")\n",
        "else:\n",
        "    plt.close() # Close the empty figure\n",
        "    print(\"No mAP data found to plot.\")"
      ]
    },
    {
      "cell_type": "code",
      "execution_count": null,
      "metadata": {
        "id": "PZAP0KYG4S-0"
      },
      "outputs": [],
      "source": [
        "\"\"\"\n",
        "Plots the classification loss instability.\n",
        "\"\"\"\n",
        "print(\"\\nGenerating Plot 3: Classification Loss Instability...\")\n",
        "plt.figure(figsize=(12, 7)) # Create a new figure\n",
        "\n",
        "cls_loss_cols = ['val/cls_loss', 'train/cls_loss']\n",
        "available_cls_loss = [col for col in cls_loss_cols if col in df.columns]\n",
        "if available_cls_loss:\n",
        "    df[available_cls_loss].plot(marker='o')\n",
        "    plt.title(f'Classification Loss (val/cls_loss) Instability (Epochs 1-{num_epochs})')\n",
        "    plt.ylabel('Loss')\n",
        "    plt.xlabel('Epoch')\n",
        "    plt.grid(True)\n",
        "    plt.legend(bbox_to_anchor=(1.05, 1), loc='upper left')\n",
        "    # Ensure x-axis shows integer epochs\n",
        "    plt.gca().xaxis.set_major_locator(ticker.MaxNLocator(integer=True))\n",
        "    # Adjust layout and save\n",
        "    plt.tight_layout(rect=[0, 0, 0.85, 1])\n",
        "    save_filename3 = 'cls_loss.png'\n",
        "    plt.savefig(save_filename3)\n",
        "    plt.show() # Show the third plot\n",
        "    print(f\"Successfully generated and saved plot to {save_filename3}\")\n",
        "else:\n",
        "     plt.close() # Close the empty figure\n",
        "     print(\"No Classification Loss data found to plot.\")"
      ]
    }
  ],
  "metadata": {
    "accelerator": "GPU",
    "colab": {
      "gpuType": "T4",
      "provenance": []
    },
    "kernelspec": {
      "display_name": "Python 3",
      "name": "python3"
    },
    "language_info": {
      "codemirror_mode": {
        "name": "ipython",
        "version": 3
      },
      "file_extension": ".py",
      "mimetype": "text/x-python",
      "name": "python",
      "nbconvert_exporter": "python",
      "pygments_lexer": "ipython3",
      "version": "3.13.7"
    },
    "widgets": {
      "application/vnd.jupyter.widget-state+json": {
        "0117eb54bff44b78bc0ac01156b03939": {
          "model_module": "@jupyter-widgets/controls",
          "model_module_version": "1.5.0",
          "model_name": "ProgressStyleModel",
          "state": {
            "_model_module": "@jupyter-widgets/controls",
            "_model_module_version": "1.5.0",
            "_model_name": "ProgressStyleModel",
            "_view_count": null,
            "_view_module": "@jupyter-widgets/base",
            "_view_module_version": "1.2.0",
            "_view_name": "StyleView",
            "bar_color": null,
            "description_width": ""
          }
        },
        "0f177f89fef64c5d8ca27096a54617d4": {
          "model_module": "@jupyter-widgets/controls",
          "model_module_version": "1.5.0",
          "model_name": "FloatProgressModel",
          "state": {
            "_dom_classes": [],
            "_model_module": "@jupyter-widgets/controls",
            "_model_module_version": "1.5.0",
            "_model_name": "FloatProgressModel",
            "_view_count": null,
            "_view_module": "@jupyter-widgets/controls",
            "_view_module_version": "1.5.0",
            "_view_name": "ProgressView",
            "bar_style": "success",
            "description": "",
            "description_tooltip": null,
            "layout": "IPY_MODEL_a2be8fa4336b4e9e9eedb5c1da41e093",
            "max": 11437,
            "min": 0,
            "orientation": "horizontal",
            "style": "IPY_MODEL_0117eb54bff44b78bc0ac01156b03939",
            "value": 11437
          }
        },
        "23a2e14834e1458aa3c46c148338ba8a": {
          "model_module": "@jupyter-widgets/base",
          "model_module_version": "1.2.0",
          "model_name": "LayoutModel",
          "state": {
            "_model_module": "@jupyter-widgets/base",
            "_model_module_version": "1.2.0",
            "_model_name": "LayoutModel",
            "_view_count": null,
            "_view_module": "@jupyter-widgets/base",
            "_view_module_version": "1.2.0",
            "_view_name": "LayoutView",
            "align_content": null,
            "align_items": null,
            "align_self": null,
            "border": null,
            "bottom": null,
            "display": null,
            "flex": null,
            "flex_flow": null,
            "grid_area": null,
            "grid_auto_columns": null,
            "grid_auto_flow": null,
            "grid_auto_rows": null,
            "grid_column": null,
            "grid_gap": null,
            "grid_row": null,
            "grid_template_areas": null,
            "grid_template_columns": null,
            "grid_template_rows": null,
            "height": null,
            "justify_content": null,
            "justify_items": null,
            "left": null,
            "margin": null,
            "max_height": null,
            "max_width": null,
            "min_height": null,
            "min_width": null,
            "object_fit": null,
            "object_position": null,
            "order": null,
            "overflow": null,
            "overflow_x": null,
            "overflow_y": null,
            "padding": null,
            "right": null,
            "top": null,
            "visibility": null,
            "width": null
          }
        },
        "2b05f0dc8d8645bb9a5dbbb3cee0c21a": {
          "model_module": "@jupyter-widgets/controls",
          "model_module_version": "1.5.0",
          "model_name": "HBoxModel",
          "state": {
            "_dom_classes": [],
            "_model_module": "@jupyter-widgets/controls",
            "_model_module_version": "1.5.0",
            "_model_name": "HBoxModel",
            "_view_count": null,
            "_view_module": "@jupyter-widgets/controls",
            "_view_module_version": "1.5.0",
            "_view_name": "HBoxView",
            "box_style": "",
            "children": [
              "IPY_MODEL_b252b1943aca45f0970d5b02e583aa86",
              "IPY_MODEL_0f177f89fef64c5d8ca27096a54617d4",
              "IPY_MODEL_ec7791469e974865a837e643b24cf75f"
            ],
            "layout": "IPY_MODEL_23a2e14834e1458aa3c46c148338ba8a"
          }
        },
        "4b0ea52ec178445ab9c73d6641dc2bca": {
          "model_module": "@jupyter-widgets/base",
          "model_module_version": "1.2.0",
          "model_name": "LayoutModel",
          "state": {
            "_model_module": "@jupyter-widgets/base",
            "_model_module_version": "1.2.0",
            "_model_name": "LayoutModel",
            "_view_count": null,
            "_view_module": "@jupyter-widgets/base",
            "_view_module_version": "1.2.0",
            "_view_name": "LayoutView",
            "align_content": null,
            "align_items": null,
            "align_self": null,
            "border": null,
            "bottom": null,
            "display": null,
            "flex": null,
            "flex_flow": null,
            "grid_area": null,
            "grid_auto_columns": null,
            "grid_auto_flow": null,
            "grid_auto_rows": null,
            "grid_column": null,
            "grid_gap": null,
            "grid_row": null,
            "grid_template_areas": null,
            "grid_template_columns": null,
            "grid_template_rows": null,
            "height": null,
            "justify_content": null,
            "justify_items": null,
            "left": null,
            "margin": null,
            "max_height": null,
            "max_width": null,
            "min_height": null,
            "min_width": null,
            "object_fit": null,
            "object_position": null,
            "order": null,
            "overflow": null,
            "overflow_x": null,
            "overflow_y": null,
            "padding": null,
            "right": null,
            "top": null,
            "visibility": null,
            "width": null
          }
        },
        "9642cb592c3a40c187bf2bf1bf8ee0f8": {
          "model_module": "@jupyter-widgets/base",
          "model_module_version": "1.2.0",
          "model_name": "LayoutModel",
          "state": {
            "_model_module": "@jupyter-widgets/base",
            "_model_module_version": "1.2.0",
            "_model_name": "LayoutModel",
            "_view_count": null,
            "_view_module": "@jupyter-widgets/base",
            "_view_module_version": "1.2.0",
            "_view_name": "LayoutView",
            "align_content": null,
            "align_items": null,
            "align_self": null,
            "border": null,
            "bottom": null,
            "display": null,
            "flex": null,
            "flex_flow": null,
            "grid_area": null,
            "grid_auto_columns": null,
            "grid_auto_flow": null,
            "grid_auto_rows": null,
            "grid_column": null,
            "grid_gap": null,
            "grid_row": null,
            "grid_template_areas": null,
            "grid_template_columns": null,
            "grid_template_rows": null,
            "height": null,
            "justify_content": null,
            "justify_items": null,
            "left": null,
            "margin": null,
            "max_height": null,
            "max_width": null,
            "min_height": null,
            "min_width": null,
            "object_fit": null,
            "object_position": null,
            "order": null,
            "overflow": null,
            "overflow_x": null,
            "overflow_y": null,
            "padding": null,
            "right": null,
            "top": null,
            "visibility": null,
            "width": null
          }
        },
        "a2be8fa4336b4e9e9eedb5c1da41e093": {
          "model_module": "@jupyter-widgets/base",
          "model_module_version": "1.2.0",
          "model_name": "LayoutModel",
          "state": {
            "_model_module": "@jupyter-widgets/base",
            "_model_module_version": "1.2.0",
            "_model_name": "LayoutModel",
            "_view_count": null,
            "_view_module": "@jupyter-widgets/base",
            "_view_module_version": "1.2.0",
            "_view_name": "LayoutView",
            "align_content": null,
            "align_items": null,
            "align_self": null,
            "border": null,
            "bottom": null,
            "display": null,
            "flex": null,
            "flex_flow": null,
            "grid_area": null,
            "grid_auto_columns": null,
            "grid_auto_flow": null,
            "grid_auto_rows": null,
            "grid_column": null,
            "grid_gap": null,
            "grid_row": null,
            "grid_template_areas": null,
            "grid_template_columns": null,
            "grid_template_rows": null,
            "height": null,
            "justify_content": null,
            "justify_items": null,
            "left": null,
            "margin": null,
            "max_height": null,
            "max_width": null,
            "min_height": null,
            "min_width": null,
            "object_fit": null,
            "object_position": null,
            "order": null,
            "overflow": null,
            "overflow_x": null,
            "overflow_y": null,
            "padding": null,
            "right": null,
            "top": null,
            "visibility": null,
            "width": null
          }
        },
        "b252b1943aca45f0970d5b02e583aa86": {
          "model_module": "@jupyter-widgets/controls",
          "model_module_version": "1.5.0",
          "model_name": "HTMLModel",
          "state": {
            "_dom_classes": [],
            "_model_module": "@jupyter-widgets/controls",
            "_model_module_version": "1.5.0",
            "_model_name": "HTMLModel",
            "_view_count": null,
            "_view_module": "@jupyter-widgets/controls",
            "_view_module_version": "1.5.0",
            "_view_name": "HTMLView",
            "description": "",
            "description_tooltip": null,
            "layout": "IPY_MODEL_9642cb592c3a40c187bf2bf1bf8ee0f8",
            "placeholder": "​",
            "style": "IPY_MODEL_d1d9d98028c9437aa60e6897f4a4b945",
            "value": "Fetching 11437 files: 100%"
          }
        },
        "d1d9d98028c9437aa60e6897f4a4b945": {
          "model_module": "@jupyter-widgets/controls",
          "model_module_version": "1.5.0",
          "model_name": "DescriptionStyleModel",
          "state": {
            "_model_module": "@jupyter-widgets/controls",
            "_model_module_version": "1.5.0",
            "_model_name": "DescriptionStyleModel",
            "_view_count": null,
            "_view_module": "@jupyter-widgets/base",
            "_view_module_version": "1.2.0",
            "_view_name": "StyleView",
            "description_width": ""
          }
        },
        "ec7791469e974865a837e643b24cf75f": {
          "model_module": "@jupyter-widgets/controls",
          "model_module_version": "1.5.0",
          "model_name": "HTMLModel",
          "state": {
            "_dom_classes": [],
            "_model_module": "@jupyter-widgets/controls",
            "_model_module_version": "1.5.0",
            "_model_name": "HTMLModel",
            "_view_count": null,
            "_view_module": "@jupyter-widgets/controls",
            "_view_module_version": "1.5.0",
            "_view_name": "HTMLView",
            "description": "",
            "description_tooltip": null,
            "layout": "IPY_MODEL_4b0ea52ec178445ab9c73d6641dc2bca",
            "placeholder": "​",
            "style": "IPY_MODEL_f3ea0267f8564b76b1281dc255111565",
            "value": " 11437/11437 [00:08&lt;00:00, 1224.91it/s]"
          }
        },
        "f3ea0267f8564b76b1281dc255111565": {
          "model_module": "@jupyter-widgets/controls",
          "model_module_version": "1.5.0",
          "model_name": "DescriptionStyleModel",
          "state": {
            "_model_module": "@jupyter-widgets/controls",
            "_model_module_version": "1.5.0",
            "_model_name": "DescriptionStyleModel",
            "_view_count": null,
            "_view_module": "@jupyter-widgets/base",
            "_view_module_version": "1.2.0",
            "_view_name": "StyleView",
            "description_width": ""
          }
        }
      }
    }
  },
  "nbformat": 4,
  "nbformat_minor": 0
}
